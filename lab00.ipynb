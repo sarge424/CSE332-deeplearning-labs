{
 "cells": [
  {
   "cell_type": "markdown",
   "metadata": {},
   "source": [
    "## MNIST"
   ]
  },
  {
   "cell_type": "code",
   "execution_count": 19,
   "metadata": {},
   "outputs": [
    {
     "name": "stdout",
     "output_type": "stream",
     "text": [
      "(60000, 28, 28)\n",
      "(60000,)\n",
      "(10000, 28, 28)\n",
      "(10000,)\n"
     ]
    }
   ],
   "source": [
    "#load the dataset\n",
    "from keras.datasets import mnist\n",
    "(train_img, train_lbl), (test_img, test_lbl) = mnist.load_data()\n",
    "\n",
    "print(train_img.shape)\n",
    "print(train_lbl.shape)\n",
    "print(test_img.shape)\n",
    "print(test_lbl.shape)"
   ]
  },
  {
   "cell_type": "code",
   "execution_count": 20,
   "metadata": {},
   "outputs": [],
   "source": [
    "#preprocess data\n",
    "train_img = train_img.reshape((60000, 28*28))\n",
    "train_img = train_img.astype('float32') / 255\n",
    "\n",
    "test_img = test_img.reshape((10000, 28*28))\n",
    "test_img = test_img.astype('float32') / 255\n",
    "\n",
    "#encode as categorical (3 -> [0 0 0 1 0 0 0 0 0 0])\n",
    "from keras.utils import to_categorical\n",
    "train_lbl = to_categorical(train_lbl)\n",
    "test_lbl = to_categorical(test_lbl)"
   ]
  },
  {
   "cell_type": "code",
   "execution_count": 21,
   "metadata": {},
   "outputs": [],
   "source": [
    "from keras import models\n",
    "from keras import layers"
   ]
  },
  {
   "cell_type": "code",
   "execution_count": 22,
   "metadata": {},
   "outputs": [
    {
     "name": "stdout",
     "output_type": "stream",
     "text": [
      "Model: \"sequential_3\"\n",
      "_________________________________________________________________\n"
     ]
    },
    {
     "name": "stdout",
     "output_type": "stream",
     "text": [
      " Layer (type)                Output Shape              Param #   \n",
      "=================================================================\n",
      " dense_10 (Dense)            (None, 512)               401920    \n",
      "                                                                 \n",
      " dense_11 (Dense)            (None, 10)                5130      \n",
      "                                                                 \n",
      "=================================================================\n",
      "Total params: 407050 (1.55 MB)\n",
      "Trainable params: 407050 (1.55 MB)\n",
      "Non-trainable params: 0 (0.00 Byte)\n",
      "_________________________________________________________________\n"
     ]
    }
   ],
   "source": [
    "#create model\n",
    "model = models.Sequential()\n",
    "model.add( layers.Dense(512, activation='relu', input_shape=(28*28,) ))\n",
    "model.add( layers.Dense(10, activation='softmax') )\n",
    "\n",
    "model.compile(\n",
    "    optimizer='rmsprop',\n",
    "    loss='categorical_crossentropy',\n",
    "    metrics=['accuracy']\n",
    ")\n",
    "\n",
    "model.summary()"
   ]
  },
  {
   "cell_type": "code",
   "execution_count": 23,
   "metadata": {},
   "outputs": [
    {
     "name": "stdout",
     "output_type": "stream",
     "text": [
      "Epoch 1/5\n",
      "469/469 [==============================] - 2s 3ms/step - loss: 0.2610 - accuracy: 0.9250\n",
      "Epoch 2/5\n",
      "469/469 [==============================] - 1s 3ms/step - loss: 0.1069 - accuracy: 0.9682\n",
      "Epoch 3/5\n",
      "469/469 [==============================] - 1s 3ms/step - loss: 0.0710 - accuracy: 0.9788\n",
      "Epoch 4/5\n",
      "469/469 [==============================] - 1s 3ms/step - loss: 0.0509 - accuracy: 0.9851\n",
      "Epoch 5/5\n",
      "469/469 [==============================] - 1s 3ms/step - loss: 0.0381 - accuracy: 0.9887\n"
     ]
    },
    {
     "data": {
      "text/plain": [
       "<keras.src.callbacks.History at 0x2329fbec640>"
      ]
     },
     "execution_count": 23,
     "metadata": {},
     "output_type": "execute_result"
    }
   ],
   "source": [
    "#train the model\n",
    "model.fit(train_img, train_lbl, epochs=5, batch_size=128)"
   ]
  },
  {
   "cell_type": "code",
   "execution_count": 24,
   "metadata": {},
   "outputs": [
    {
     "name": "stdout",
     "output_type": "stream",
     "text": [
      "313/313 [==============================] - 0s 1ms/step - loss: 0.0617 - accuracy: 0.9806\n",
      "test_acc: 0.9805999994277954\n",
      "Arjun 21BAI1148\n"
     ]
    }
   ],
   "source": [
    "#test model performance against test set\n",
    "test_loss, test_acc = model.evaluate(test_img, test_lbl)\n",
    "print('test_acc:', test_acc)\n",
    "print(\"Arjun 21BAI1148\")"
   ]
  },
  {
   "cell_type": "markdown",
   "metadata": {},
   "source": [
    "## MNIST Fashion"
   ]
  },
  {
   "cell_type": "code",
   "execution_count": 25,
   "metadata": {},
   "outputs": [
    {
     "name": "stdout",
     "output_type": "stream",
     "text": [
      "(60000, 28, 28)\n",
      "(60000,)\n",
      "(10000, 28, 28)\n",
      "(10000,)\n"
     ]
    }
   ],
   "source": [
    "from keras.datasets import fashion_mnist\n",
    "(train_img, train_label), (test_img, test_label) = fashion_mnist.load_data()\n",
    "\n",
    "print(train_img.shape)\n",
    "print(train_label.shape)\n",
    "print(test_img.shape)\n",
    "print(test_label.shape)"
   ]
  },
  {
   "cell_type": "code",
   "execution_count": 26,
   "metadata": {},
   "outputs": [
    {
     "name": "stdout",
     "output_type": "stream",
     "text": [
      "(36000, 28, 28)\n",
      "(36000,)\n",
      "(6000, 28, 28)\n",
      "(6000,)\n"
     ]
    }
   ],
   "source": [
    "#filter out all other labels from the dataset\n",
    "train_img = train_img[train_label < 6]\n",
    "train_label = train_label[train_label < 6]\n",
    "test_img = test_img[test_label < 6]\n",
    "test_label = test_label[test_label < 6]\n",
    "\n",
    "print(train_img.shape)\n",
    "print(train_label.shape)\n",
    "print(test_img.shape)\n",
    "print(test_label.shape)"
   ]
  },
  {
   "cell_type": "code",
   "execution_count": 27,
   "metadata": {},
   "outputs": [],
   "source": [
    "#preprocess data\n",
    "train_img = train_img.reshape((36000, 28*28))\n",
    "train_img = train_img.astype('float32') / 255\n",
    "\n",
    "test_img = test_img.reshape((6000, 28*28))\n",
    "test_img = test_img.astype('float32') / 255\n",
    "\n",
    "#encode as categorical (3 -> [0 0 0 1 0 0 0 0 0 0])\n",
    "from keras.utils import to_categorical\n",
    "train_label = to_categorical(train_label)\n",
    "test_label = to_categorical(test_label)"
   ]
  },
  {
   "cell_type": "code",
   "execution_count": 28,
   "metadata": {},
   "outputs": [],
   "source": [
    "from keras import models\n",
    "from keras import layers"
   ]
  },
  {
   "cell_type": "code",
   "execution_count": 29,
   "metadata": {},
   "outputs": [
    {
     "name": "stdout",
     "output_type": "stream",
     "text": [
      "Model: \"sequential_4\"\n",
      "_________________________________________________________________\n",
      " Layer (type)                Output Shape              Param #   \n",
      "=================================================================\n",
      " dense_12 (Dense)            (None, 512)               401920    \n",
      "                                                                 \n",
      " flatten_2 (Flatten)         (None, 512)               0         \n",
      "                                                                 \n",
      " dense_13 (Dense)            (None, 256)               131328    \n",
      "                                                                 \n",
      " dense_14 (Dense)            (None, 6)                 1542      \n",
      "                                                                 \n",
      "=================================================================\n",
      "Total params: 534790 (2.04 MB)\n",
      "Trainable params: 534790 (2.04 MB)\n",
      "Non-trainable params: 0 (0.00 Byte)\n",
      "_________________________________________________________________\n"
     ]
    }
   ],
   "source": [
    "#create model\n",
    "model = models.Sequential()\n",
    "model.add( layers.Dense(512, activation='relu', input_shape=(28*28,) ))\n",
    "model.add(layers.Flatten())\n",
    "model.add( layers.Dense(256, activation='relu' ))\n",
    "model.add( layers.Dense(6, activation='softmax') )\n",
    "\n",
    "model.compile(\n",
    "    optimizer='rmsprop',\n",
    "    loss='categorical_crossentropy',\n",
    "    metrics=['accuracy']\n",
    ")\n",
    "model.summary()"
   ]
  },
  {
   "cell_type": "code",
   "execution_count": 30,
   "metadata": {},
   "outputs": [
    {
     "name": "stdout",
     "output_type": "stream",
     "text": [
      "Epoch 1/5\n",
      "282/282 [==============================] - 1s 4ms/step - loss: 0.4049 - accuracy: 0.8496\n",
      "Epoch 2/5\n",
      "282/282 [==============================] - 1s 4ms/step - loss: 0.2702 - accuracy: 0.8988\n",
      "Epoch 3/5\n",
      "282/282 [==============================] - 1s 4ms/step - loss: 0.2358 - accuracy: 0.9139\n",
      "Epoch 4/5\n",
      "282/282 [==============================] - 1s 4ms/step - loss: 0.2173 - accuracy: 0.9193\n",
      "Epoch 5/5\n",
      "282/282 [==============================] - 1s 4ms/step - loss: 0.2040 - accuracy: 0.9234\n"
     ]
    },
    {
     "data": {
      "text/plain": [
       "<keras.src.callbacks.History at 0x23299a36770>"
      ]
     },
     "execution_count": 30,
     "metadata": {},
     "output_type": "execute_result"
    }
   ],
   "source": [
    "#train the model\n",
    "model.fit(train_img, train_label, epochs=5, batch_size=128)"
   ]
  },
  {
   "cell_type": "code",
   "execution_count": 31,
   "metadata": {},
   "outputs": [
    {
     "name": "stdout",
     "output_type": "stream",
     "text": [
      "188/188 [==============================] - 0s 1ms/step - loss: 0.3074 - accuracy: 0.8817\n",
      "test_acc: 0.8816666603088379\n",
      "Arjun 21BAI1148\n"
     ]
    }
   ],
   "source": [
    "#test model performance against test set\n",
    "test_loss, test_acc = model.evaluate(test_img, test_label)\n",
    "print('test_acc:', test_acc)\n",
    "print(\"Arjun 21BAI1148\")"
   ]
  },
  {
   "cell_type": "markdown",
   "metadata": {},
   "source": [
    "## Cats vs Dogs"
   ]
  },
  {
   "cell_type": "code",
   "execution_count": 14,
   "metadata": {},
   "outputs": [],
   "source": [
    "import tensorflow as tf\n",
    "from keras import models\n",
    "from keras import layers"
   ]
  },
  {
   "cell_type": "code",
   "execution_count": 15,
   "metadata": {},
   "outputs": [
    {
     "name": "stdout",
     "output_type": "stream",
     "text": [
      "Found 24000 files belonging to 2 classes.\n",
      "Found 1000 files belonging to 2 classes.\n"
     ]
    }
   ],
   "source": [
    "#load the training data\n",
    "train = tf.keras.utils.image_dataset_from_directory('../input/train/', labels='inferred', label_mode='categorical',\n",
    "                                                    image_size=(128,128), batch_size=64, crop_to_aspect_ratio=True)\n",
    "test = tf.keras.utils.image_dataset_from_directory('../input/test/', labels='inferred', label_mode='categorical',\n",
    "                                                    image_size=(128,128), crop_to_aspect_ratio=True)"
   ]
  },
  {
   "cell_type": "code",
   "execution_count": 36,
   "metadata": {},
   "outputs": [
    {
     "name": "stdout",
     "output_type": "stream",
     "text": [
      "Model: \"sequential_6\"\n",
      "_________________________________________________________________\n",
      " Layer (type)                Output Shape              Param #   \n",
      "=================================================================\n",
      " rescaling_2 (Rescaling)     (None, 128, 128, 3)       0         \n",
      "                                                                 \n",
      " flatten_4 (Flatten)         (None, 49152)             0         \n",
      "                                                                 \n",
      " dense_20 (Dense)            (None, 512)               25166336  \n",
      "                                                                 \n",
      " dense_21 (Dense)            (None, 256)               131328    \n",
      "                                                                 \n",
      " dense_22 (Dense)            (None, 128)               32896     \n",
      "                                                                 \n",
      " dense_23 (Dense)            (None, 32)                4128      \n",
      "                                                                 \n",
      " dense_24 (Dense)            (None, 2)                 66        \n",
      "                                                                 \n",
      "=================================================================\n",
      "Total params: 25334754 (96.64 MB)\n",
      "Trainable params: 25334754 (96.64 MB)\n",
      "Non-trainable params: 0 (0.00 Byte)\n",
      "_________________________________________________________________\n"
     ]
    }
   ],
   "source": [
    "#create model (sample, wont actually be able to model the dataset)\n",
    "model = models.Sequential()\n",
    "model.add(layers.Rescaling(1./255, input_shape=(128,128,3)))\n",
    "model.add(layers.Flatten())\n",
    "model.add(layers.Dense(512, activation='relu'))\n",
    "model.add(layers.Dense(256, activation='relu' ))\n",
    "model.add(layers.Dense(128, activation='relu' ))\n",
    "model.add(layers.Dense(32, activation='relu' ))\n",
    "model.add(layers.Dense(2, activation='softmax'))\n",
    "\n",
    "model.compile(optimizer='adam', loss=tf.keras.losses.CategoricalCrossentropy(from_logits=False), metrics=['accuracy'])\n",
    "\n",
    "model.summary()"
   ]
  },
  {
   "cell_type": "code",
   "execution_count": 37,
   "metadata": {},
   "outputs": [
    {
     "name": "stdout",
     "output_type": "stream",
     "text": [
      "375/375 [==============================] - 69s 183ms/step - loss: 1.0016 - accuracy: 0.5397\n"
     ]
    }
   ],
   "source": [
    "#train the model\n",
    "history = model.fit(train,epochs=1)"
   ]
  },
  {
   "cell_type": "code",
   "execution_count": 35,
   "metadata": {},
   "outputs": [
    {
     "name": "stdout",
     "output_type": "stream",
     "text": [
      "32/32 [==============================] - 1s 13ms/step - loss: 0.9091 - accuracy: 0.5190\n",
      "model accuracy is 51.90%.\n",
      "Arjun 21BAI1148\n"
     ]
    }
   ],
   "source": [
    "#results\n",
    "#index 0 is loss, 1 is accuracy\n",
    "acc = model.evaluate(test)[1] \n",
    "print(f\"model accuracy is {acc*100:.2f}%.\")\n",
    "print(\"Arjun 21BAI1148\")"
   ]
  }
 ],
 "metadata": {
  "kernelspec": {
   "display_name": "env",
   "language": "python",
   "name": "python3"
  },
  "language_info": {
   "codemirror_mode": {
    "name": "ipython",
    "version": 3
   },
   "file_extension": ".py",
   "mimetype": "text/x-python",
   "name": "python",
   "nbconvert_exporter": "python",
   "pygments_lexer": "ipython3",
   "version": "3.10.4"
  }
 },
 "nbformat": 4,
 "nbformat_minor": 2
}
